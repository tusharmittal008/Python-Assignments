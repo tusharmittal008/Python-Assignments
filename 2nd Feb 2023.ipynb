{
 "cells": [
  {
   "cell_type": "markdown",
   "id": "61723cc5-a91e-443f-8114-08866686fd54",
   "metadata": {},
   "source": [
    "1. Explain with an example each when to use a for loop and a while loop."
   ]
  },
  {
   "cell_type": "code",
   "execution_count": 13,
   "id": "f3330f5e-445b-42e2-b772-e51ff02f28d2",
   "metadata": {},
   "outputs": [
    {
     "name": "stdout",
     "output_type": "stream",
     "text": [
      "0\n",
      "1\n",
      "2\n",
      "3\n",
      "4\n",
      "5\n",
      "6\n",
      "7\n",
      "8\n",
      "9\n",
      "10\n",
      "0\n",
      "1\n",
      "2\n",
      "3\n",
      "4\n",
      "5\n",
      "6\n",
      "7\n",
      "8\n",
      "9\n"
     ]
    }
   ],
   "source": [
    "'''A for loop is a control flow statement that executes code repeatedly for a particular number of iterations.\n",
    "The for loop is used when the number of iterations is already known.\n",
    "\n",
    "A loop that executes a single statement or a group of statements for the given true condition. \n",
    "A \"while\" loop is used when the number of iterations is unknown. \n",
    "The statement repeats itself till the boolean value becomes false. \n",
    "In a while loop, the condition is tested at the start.\n",
    "'''\n",
    "#using while loop\n",
    "i = 0\n",
    "while i <= 10:\n",
    "    print(i)\n",
    "    i = i + 1\n",
    "\n",
    "#using for loop\n",
    "\n",
    "for t in range(0,10):\n",
    "    print(t)"
   ]
  },
  {
   "cell_type": "markdown",
   "id": "7add3ae4-a6e9-43ed-96f5-bc5449bceb0d",
   "metadata": {},
   "source": [
    "2. Write a python program to print the sum and product of the first 10 natural numbers using for\n",
    "and while loop."
   ]
  },
  {
   "cell_type": "code",
   "execution_count": 2,
   "id": "14009b28-8b0b-4ee2-9659-6626bb066cdd",
   "metadata": {},
   "outputs": [
    {
     "name": "stdout",
     "output_type": "stream",
     "text": [
      "Using for loop the Sum and Product are : 55 3628800\n"
     ]
    }
   ],
   "source": [
    "sum = 0\n",
    "product = 1\n",
    "for i in range(1,11):\n",
    "    sum = sum + i\n",
    "    product = product * i\n",
    "print(\"Using for loop the Sum and Product are :\",sum,product)"
   ]
  },
  {
   "cell_type": "code",
   "execution_count": 2,
   "id": "a0e1b2ba-d583-4ee7-af4c-de8dbd4230d0",
   "metadata": {},
   "outputs": [
    {
     "name": "stdout",
     "output_type": "stream",
     "text": [
      "Using while loop the Sum and Product are : 55 3628800\n"
     ]
    }
   ],
   "source": [
    "sum = 0\n",
    "i=1\n",
    "product = 1\n",
    "while i<=10:\n",
    "    sum = sum + i\n",
    "    product = product * i\n",
    "    i = i+1\n",
    "print(\"Using while loop the Sum and Product are :\",sum,product)"
   ]
  },
  {
   "cell_type": "markdown",
   "id": "9a3ba848-31b2-4cf8-ab4b-1b64703c5993",
   "metadata": {},
   "source": [
    "3. Create a python program to compute the electricity bill for a household.\n",
    "\n",
    "The per-unit charges in rupees are as follows: For the first 100 units, the user will be charged Rs. 4.5 per\n",
    "unit, for the next 100 units, the user will be charged Rs. 6 per unit, and for the next 100 units, the user will\n",
    "be charged Rs. 10 per unit, After 300 units and above the user will be charged Rs. 20 per unit.\n",
    "\n",
    "You are required to take the units of electricity consumed in a month from the user as input.\n",
    "\n",
    "Your program must pass this test case: when the unit of electricity consumed by the user in a month is\n",
    "310, the total electricity bill should be 2250."
   ]
  },
  {
   "cell_type": "code",
   "execution_count": 1,
   "id": "2bb8c955-321e-4afe-8e75-c7273192f6eb",
   "metadata": {},
   "outputs": [
    {
     "name": "stdin",
     "output_type": "stream",
     "text": [
      "Enter the amount of unit comsumned per month : 310\n"
     ]
    },
    {
     "name": "stdout",
     "output_type": "stream",
     "text": [
      "2250.0\n"
     ]
    }
   ],
   "source": [
    "unit_consumed = int(input(\"Enter the amount of unit comsumned per month :\"))\n",
    "unit_rem = unit_consumed\n",
    "amount = 0\n",
    "while unit_consumed > 0:\n",
    "    if unit_consumed <= 100:\n",
    "        amount = amount + (4.5*unit_rem)\n",
    "        break\n",
    "    elif unit_consumed > 100 and unit_consumed<=200:\n",
    "        unit_rem = unit_consumed -100\n",
    "        amount = amount + (6*unit_rem)\n",
    "        unit_consumed = unit_consumed - unit_rem\n",
    "    elif unit_consumed > 200 and unit_consumed<=300:\n",
    "        unit_rem = unit_consumed -200\n",
    "        amount = amount + (10*unit_rem) \n",
    "        unit_consumed = unit_consumed - unit_rem\n",
    "    else:\n",
    "        unit_rem = unit_consumed -300\n",
    "        amount = amount + (20*unit_rem) \n",
    "        unit_consumed = unit_consumed - unit_rem\n",
    "print(amount)"
   ]
  },
  {
   "cell_type": "markdown",
   "id": "9a06649b-1f5b-41c9-bed3-c48e6408b3e7",
   "metadata": {},
   "source": [
    "4. Create a list of numbers from 1 to 100. Use for loop and while loop to calculate the cube of each\n",
    "number and if the cube of that number is divisible by 4 or 5 then append that number in a list and print\n",
    "that list."
   ]
  },
  {
   "cell_type": "code",
   "execution_count": 5,
   "id": "1e31300d-fe85-46b3-a8d3-59bfd110eb77",
   "metadata": {},
   "outputs": [
    {
     "name": "stdout",
     "output_type": "stream",
     "text": [
      "[1, 8, 27, 64, 125, 216, 343, 512, 729, 1000, 1331, 1728, 2197, 2744, 3375, 4096, 4913, 5832, 6859, 8000, 9261, 10648, 12167, 13824, 15625, 17576, 19683, 21952, 24389, 27000, 29791, 32768, 35937, 39304, 42875, 46656, 50653, 54872, 59319, 64000, 68921, 74088, 79507, 85184, 91125, 97336, 103823, 110592, 117649, 125000, 132651, 140608, 148877, 157464, 166375, 175616, 185193, 195112, 205379, 216000, 226981, 238328, 250047, 262144, 274625, 287496, 300763, 314432, 328509, 343000, 357911, 373248, 389017, 405224, 421875, 438976, 456533, 474552, 493039, 512000, 531441, 551368, 571787, 592704, 614125, 636056, 658503, 681472, 704969, 729000, 753571, 778688, 804357, 830584, 857375, 884736, 912673, 941192, 970299, 1000000]\n"
     ]
    }
   ],
   "source": [
    "cube_list_using_for = []\n",
    "for i in range(1,101):\n",
    "    cube_list_using_for.append(i**3)\n",
    "print(cube_list_using_for)"
   ]
  },
  {
   "cell_type": "code",
   "execution_count": 6,
   "id": "78476cae-8599-4ee8-af31-b46b3546d27b",
   "metadata": {},
   "outputs": [
    {
     "name": "stdout",
     "output_type": "stream",
     "text": [
      "[1, 8, 27, 64, 125, 216, 343, 512, 729, 1000, 1331, 1728, 2197, 2744, 3375, 4096, 4913, 5832, 6859, 8000, 9261, 10648, 12167, 13824, 15625, 17576, 19683, 21952, 24389, 27000, 29791, 32768, 35937, 39304, 42875, 46656, 50653, 54872, 59319, 64000, 68921, 74088, 79507, 85184, 91125, 97336, 103823, 110592, 117649, 125000, 132651, 140608, 148877, 157464, 166375, 175616, 185193, 195112, 205379, 216000, 226981, 238328, 250047, 262144, 274625, 287496, 300763, 314432, 328509, 343000, 357911, 373248, 389017, 405224, 421875, 438976, 456533, 474552, 493039, 512000, 531441, 551368, 571787, 592704, 614125, 636056, 658503, 681472, 704969, 729000, 753571, 778688, 804357, 830584, 857375, 884736, 912673, 941192, 970299, 1000000]\n"
     ]
    }
   ],
   "source": [
    "cube_list_using_while = []\n",
    "i=1\n",
    "while i<=100:\n",
    "    cube_list_using_while.append(i**3)\n",
    "    i+=1\n",
    "print(cube_list_using_for)"
   ]
  },
  {
   "cell_type": "code",
   "execution_count": 8,
   "id": "9dc73ba5-29df-480a-9836-2763d6c464f1",
   "metadata": {},
   "outputs": [
    {
     "name": "stdout",
     "output_type": "stream",
     "text": [
      "[8, 64, 125, 216, 512, 1000, 1728, 2744, 3375, 4096, 5832, 8000, 10648, 13824, 15625, 17576, 21952, 27000, 32768, 39304, 42875, 46656, 54872, 64000, 74088, 85184, 91125, 97336, 110592, 125000, 140608, 157464, 166375, 175616, 195112, 216000, 238328, 262144, 274625, 287496, 314432, 343000, 373248, 405224, 421875, 438976, 474552, 512000, 551368, 592704, 614125, 636056, 681472, 729000, 778688, 830584, 857375, 884736, 941192, 1000000]\n"
     ]
    }
   ],
   "source": [
    "div_list = []\n",
    "for i in range(len(cube_list_using_for)):\n",
    "    if cube_list_using_for[i] % 4 == 0 or cube_list_using_for[i] % 5 == 0:\n",
    "        div_list.append(cube_list_using_for[i])\n",
    "print(div_list)"
   ]
  },
  {
   "cell_type": "markdown",
   "id": "6aebead9-3eb5-4008-b26e-e5b17a2a2f66",
   "metadata": {},
   "source": [
    "5.Write a program to filter count vowels in the below-given string.\n",
    "string = \"I want to become a data scientist\""
   ]
  },
  {
   "cell_type": "code",
   "execution_count": 9,
   "id": "6c6639bf-df03-413b-b8c4-1b5a93a1608f",
   "metadata": {},
   "outputs": [
    {
     "name": "stdout",
     "output_type": "stream",
     "text": [
      "12\n"
     ]
    }
   ],
   "source": [
    "string = \"I want to become a data scientist\"\n",
    "count = 0\n",
    "list_vowel = ['a','e','i','o','u','A','E','I','O','U']\n",
    "for i in string:\n",
    "    if i in list_vowel:\n",
    "        count += 1\n",
    "print (count)"
   ]
  },
  {
   "cell_type": "code",
   "execution_count": null,
   "id": "7d938e4d-a9e7-4fd3-ab00-5a6323c8ab96",
   "metadata": {},
   "outputs": [],
   "source": []
  }
 ],
 "metadata": {
  "kernelspec": {
   "display_name": "Python 3 (ipykernel)",
   "language": "python",
   "name": "python3"
  },
  "language_info": {
   "codemirror_mode": {
    "name": "ipython",
    "version": 3
   },
   "file_extension": ".py",
   "mimetype": "text/x-python",
   "name": "python",
   "nbconvert_exporter": "python",
   "pygments_lexer": "ipython3",
   "version": "3.10.8"
  }
 },
 "nbformat": 4,
 "nbformat_minor": 5
}

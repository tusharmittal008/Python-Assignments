{
 "cells": [
  {
   "cell_type": "markdown",
   "id": "e4316682-b54b-458d-90e2-641e044e5ceb",
   "metadata": {},
   "source": [
    "1. Write a program to accept percentage from user and display the grade according to the following criteria - "
   ]
  },
  {
   "cell_type": "code",
   "execution_count": 3,
   "id": "e6b9a7c7-cb2f-43df-b1ff-85974de68400",
   "metadata": {},
   "outputs": [
    {
     "name": "stdin",
     "output_type": "stream",
     "text": [
      "Enter your percentage 91\n"
     ]
    },
    {
     "name": "stdout",
     "output_type": "stream",
     "text": [
      "A\n"
     ]
    }
   ],
   "source": [
    "user_percentage = int(input(\"Enter your percentage\"))\n",
    "if user_percentage > 90 :\n",
    "    print('A')\n",
    "elif user_percentage > 80 and user_percentage <=90:\n",
    "    print('B')\n",
    "elif user_percentage >= 60 and user_percentage <= 80:\n",
    "    print('C')\n",
    "else:\n",
    "    print('D')"
   ]
  },
  {
   "cell_type": "markdown",
   "id": "711cbff1-c4a5-42f7-b947-58e7e3180c6c",
   "metadata": {},
   "source": [
    "2. Write a program to accept the cost price of a bike and display the road tax to be paid - "
   ]
  },
  {
   "cell_type": "code",
   "execution_count": 6,
   "id": "0155e584-58a0-49f2-b242-1bb55d589a7c",
   "metadata": {},
   "outputs": [
    {
     "name": "stdin",
     "output_type": "stream",
     "text": [
      "Enter the cost price : 100000\n"
     ]
    }
   ],
   "source": [
    "cost_price = int(input(\"Enter the cost price :\"))"
   ]
  },
  {
   "cell_type": "code",
   "execution_count": 9,
   "id": "0c086f6a-fa16-4570-b030-a823b12cf53a",
   "metadata": {},
   "outputs": [
    {
     "name": "stdin",
     "output_type": "stream",
     "text": [
      "Enter the cost price : 30000\n"
     ]
    },
    {
     "name": "stdout",
     "output_type": "stream",
     "text": [
      "The tax amount is : 1500.0 and the tax rate is : 5.0\n"
     ]
    }
   ],
   "source": [
    "cost_price = int(input(\"Enter the cost price :\"))\n",
    "tax_amount = 0\n",
    "tax_rate = 0\n",
    "if cost_price > 100000:\n",
    "    tax_rate = 0.15\n",
    "    tax_amount = tax_rate*cost_price\n",
    "    print(\"The tax amount is :\",tax_amount,\"and the tax rate is :\",tax_rate*100)\n",
    "elif cost_price >= 50000 and cost_price <= 100000:\n",
    "    tax_rate = 0.10\n",
    "    tax_amount = tax_rate*cost_price\n",
    "    print(\"The tax amount is :\",tax_amount,\"and the tax rate is :\",tax_rate*100)\n",
    "else:\n",
    "    tax_rate = 0.05\n",
    "    tax_amount = tax_rate*cost_price\n",
    "    print(\"The tax amount is :\",tax_amount,\"and the tax rate is :\",tax_rate*100)"
   ]
  },
  {
   "cell_type": "code",
   "execution_count": 10,
   "id": "95c5f81e-fe79-402d-a3a1-f277247f313b",
   "metadata": {},
   "outputs": [],
   "source": [
    "city_monuments = {\"Delhi\":\"Red Fort\", \"Agra\":\"Taj Mahal\",\"Jaipur\":\"Jal Mahal\"}"
   ]
  },
  {
   "cell_type": "code",
   "execution_count": 11,
   "id": "f4e60505-0833-469f-92ab-46d15309b124",
   "metadata": {},
   "outputs": [
    {
     "name": "stdin",
     "output_type": "stream",
     "text": [
      "Enter the city :  Delhi\n"
     ]
    },
    {
     "name": "stdout",
     "output_type": "stream",
     "text": [
      "Red Fort\n"
     ]
    }
   ],
   "source": [
    "city = input(\"Enter the city : \")\n",
    "print(city_monuments[city])"
   ]
  },
  {
   "cell_type": "markdown",
   "id": "9aab2e33-ad77-4ec5-a66e-88a5e97e159f",
   "metadata": {},
   "source": [
    "4. Check how many times a no is divided by 3 before it is less than or equal to 10 - "
   ]
  },
  {
   "cell_type": "code",
   "execution_count": 14,
   "id": "d6118dd4-d614-40fc-83f5-8493311ca39f",
   "metadata": {},
   "outputs": [
    {
     "name": "stdin",
     "output_type": "stream",
     "text": [
      "Enter the number : 90\n"
     ]
    },
    {
     "name": "stdout",
     "output_type": "stream",
     "text": [
      "2\n"
     ]
    }
   ],
   "source": [
    "number = int(input(\"Enter the number :\")) \n",
    "count = 0\n",
    "while number > 10:\n",
    "    number = number/3\n",
    "    count = count + 1\n",
    "print(count)"
   ]
  },
  {
   "cell_type": "markdown",
   "id": "053ca628-152c-4a9b-bf60-716c3edca3ac",
   "metadata": {},
   "source": [
    "5. Why and when to use while loop in python with detailed explaination and examples - "
   ]
  },
  {
   "cell_type": "code",
   "execution_count": 3,
   "id": "d92be9de-6d14-4ca6-89d6-2bc5529b1bca",
   "metadata": {},
   "outputs": [
    {
     "name": "stdout",
     "output_type": "stream",
     "text": [
      "5\n",
      "4\n",
      "3\n",
      "2\n",
      "1\n",
      "0\n"
     ]
    }
   ],
   "source": [
    "'''Python while loop is used to run a block code until a certain condition is met.\n",
    "A while loop evaluates the condition. \n",
    "If the condition evaluates to True , the code inside the while loop is executed. '''\n",
    "\n",
    "i = 5\n",
    "while i<=5 and i>=0:\n",
    "    print(i)\n",
    "    i = i-1"
   ]
  },
  {
   "cell_type": "markdown",
   "id": "3564ad81-d36f-41b4-a457-12310a4ef15a",
   "metadata": {},
   "source": [
    "6. Use nested loop to print 3 different patters using while loop - "
   ]
  },
  {
   "cell_type": "code",
   "execution_count": 1,
   "id": "fbabe5a6-7456-4257-8cfe-dcfa226467cb",
   "metadata": {},
   "outputs": [
    {
     "name": "stdout",
     "output_type": "stream",
     "text": [
      "* \n",
      "* * \n",
      "* * * \n",
      "* * * * \n",
      "* * * * * \n"
     ]
    }
   ],
   "source": [
    "i = 1\n",
    "while i<=5 :\n",
    "    j = 1\n",
    "    while j <= i :\n",
    "        print('*',end = \" \")\n",
    "        j = j+1\n",
    "    i = i +1\n",
    "    print()"
   ]
  },
  {
   "cell_type": "code",
   "execution_count": 12,
   "id": "a31e79ed-1dd6-41c3-b790-f22709398765",
   "metadata": {},
   "outputs": [
    {
     "name": "stdout",
     "output_type": "stream",
     "text": [
      "        *  \n",
      "      * *  \n",
      "    * * *  \n",
      "  * * * *  \n",
      "* * * * *  \n"
     ]
    }
   ],
   "source": [
    "i = 1\n",
    "while i <= 5 :\n",
    "    j=5\n",
    "    while j>i:\n",
    "        print(\" \",end = \" \")\n",
    "        j = j - 1\n",
    "    print(\"* \"*i,end = \" \")\n",
    "    i = i+1\n",
    "    print()"
   ]
  },
  {
   "cell_type": "code",
   "execution_count": null,
   "id": "a7468d94-a710-4650-ba88-a24bbd414a9b",
   "metadata": {},
   "outputs": [
    {
     "name": "stdout",
     "output_type": "stream",
     "text": [
      "* * * * * * \n",
      " * * * * * \n",
      "  * * * * \n",
      "   * * * \n",
      "    * * \n",
      "     * \n"
     ]
    }
   ],
   "source": [
    "n=6\n",
    "i = n\n",
    "j=0\n",
    "while 1<=n:\n",
    "    while j < i:\n",
    "        print(\" \"*j + \"* \" * (i-j))\n",
    "        j=j+1"
   ]
  },
  {
   "cell_type": "markdown",
   "id": "5fad1e90-11ca-4d74-9fb2-30eeaaab3129",
   "metadata": {},
   "source": [
    "7. Reverse a while loop to display number from 10 to 1 - "
   ]
  },
  {
   "cell_type": "code",
   "execution_count": 15,
   "id": "63cbadac-d0c8-49c8-9a0b-24e4412659b2",
   "metadata": {},
   "outputs": [
    {
     "name": "stdout",
     "output_type": "stream",
     "text": [
      "10\n",
      "9\n",
      "8\n",
      "7\n",
      "6\n",
      "5\n",
      "4\n",
      "3\n",
      "2\n",
      "1\n"
     ]
    }
   ],
   "source": [
    "number = 10\n",
    "while number >=1 and number <=10 :\n",
    "    print(number)\n",
    "    number = number - 1"
   ]
  },
  {
   "cell_type": "markdown",
   "id": "936b4c1f-1e36-4cad-84ac-b00367fbca13",
   "metadata": {},
   "source": [
    "8. Printing error -  both Question no 7 and Question no 8 are same \n"
   ]
  },
  {
   "cell_type": "code",
   "execution_count": null,
   "id": "ce55f340-d454-4301-82c3-ae004187e30b",
   "metadata": {},
   "outputs": [],
   "source": []
  }
 ],
 "metadata": {
  "kernelspec": {
   "display_name": "Python 3 (ipykernel)",
   "language": "python",
   "name": "python3"
  },
  "language_info": {
   "codemirror_mode": {
    "name": "ipython",
    "version": 3
   },
   "file_extension": ".py",
   "mimetype": "text/x-python",
   "name": "python",
   "nbconvert_exporter": "python",
   "pygments_lexer": "ipython3",
   "version": "3.10.8"
  }
 },
 "nbformat": 4,
 "nbformat_minor": 5
}

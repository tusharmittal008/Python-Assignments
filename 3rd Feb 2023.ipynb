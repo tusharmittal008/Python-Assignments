{
 "cells": [
  {
   "cell_type": "markdown",
   "id": "7ee28924-c24b-40f7-9650-aa378185bdca",
   "metadata": {},
   "source": [
    "1. Which keyword is used to create a function? Create a function to return a list of odd numbers in the\n",
    "range of 1 to 25."
   ]
  },
  {
   "cell_type": "code",
   "execution_count": 3,
   "id": "7a1658e0-e421-4028-bcaf-ca53532801c4",
   "metadata": {},
   "outputs": [],
   "source": [
    "''' def is used to create a fucntion in python '''\n",
    "\n",
    "def odd_number():\n",
    "    odd_list = []\n",
    "    for i in range(0,26):\n",
    "        if i%2 != 0 :\n",
    "            odd_list.append(i)\n",
    "    return odd_list"
   ]
  },
  {
   "cell_type": "code",
   "execution_count": 4,
   "id": "b9d00198-a566-4445-9ec0-f09f997419f8",
   "metadata": {},
   "outputs": [
    {
     "data": {
      "text/plain": [
       "[1, 3, 5, 7, 9, 11, 13, 15, 17, 19, 21, 23, 25]"
      ]
     },
     "execution_count": 4,
     "metadata": {},
     "output_type": "execute_result"
    }
   ],
   "source": [
    "odd_number()"
   ]
  },
  {
   "cell_type": "markdown",
   "id": "244f1489-62b0-4c42-944b-051392057151",
   "metadata": {},
   "source": [
    "2. Why *args and **kwargs is used in some functions? Create a function each for *args and **kwargs\n",
    "to demonstrate their use."
   ]
  },
  {
   "cell_type": "code",
   "execution_count": 5,
   "id": "e46aab4f-df23-43bb-b974-53de4b0d781b",
   "metadata": {},
   "outputs": [],
   "source": [
    "'''\n",
    "We use *args and **kwargs as an argument when we are unsure about the number of arguments to pass in the functions.'''\n",
    "\n",
    "def addition_args(*args):\n",
    "    sum = 0\n",
    "    \n",
    "    for i in args:\n",
    "        sum = sum + i\n",
    "\n",
    "    print(\"Sum:\",sum)"
   ]
  },
  {
   "cell_type": "code",
   "execution_count": 8,
   "id": "8195b6e0-35d0-48ca-8aa1-2b28023433bc",
   "metadata": {},
   "outputs": [
    {
     "name": "stdout",
     "output_type": "stream",
     "text": [
      "Sum: 5\n",
      "Sum: 10\n"
     ]
    }
   ],
   "source": [
    "addition_args(2,3)\n",
    "addition_args(2,3,5)"
   ]
  },
  {
   "cell_type": "code",
   "execution_count": 1,
   "id": "38a2e54a-8997-43f4-aefa-468e74a0cbc1",
   "metadata": {},
   "outputs": [
    {
     "name": "stdout",
     "output_type": "stream",
     "text": [
      "name Tushar\n",
      "Age 24\n",
      "City Muzaffarnagar\n"
     ]
    }
   ],
   "source": [
    "def kwargs_temp(**kwargs):\n",
    "    for i,j in kwargs.items():\n",
    "        print(i,j)\n",
    "\n",
    "kwargs_temp(name = 'Tushar' , Age = '24', City = 'Muzaffarnagar')"
   ]
  },
  {
   "cell_type": "markdown",
   "id": "8ca32ed8-09f7-42ae-b5c9-b872d58bd521",
   "metadata": {},
   "source": [
    "3. What is an iterator in python? Name the method used to initialise the iterator object and the method\n",
    "used for iteration. Use these methods to print the first five elements of the given list [2, 4, 6, 8, 10, 12,14,16, 18, 20]."
   ]
  },
  {
   "cell_type": "code",
   "execution_count": 4,
   "id": "dddb46f4-1bf1-4073-878c-1706b0ca1cc1",
   "metadata": {},
   "outputs": [
    {
     "name": "stdout",
     "output_type": "stream",
     "text": [
      "2\n",
      "4\n",
      "6\n",
      "8\n",
      "10\n"
     ]
    }
   ],
   "source": [
    "'''\n",
    "Iterator in Python is an object that is used to iterate over iterable objects like lists, tuples, dicts, and sets.\n",
    "The iterator object is initialized using the iter() method. \n",
    "It uses the next() method for iteration. '''\n",
    "\n",
    "l1 = [2, 4, 6, 8, 10, 12,14,16, 18, 20]\n",
    "l2 = iter(l1)\n",
    "\n",
    "for i in range(5):\n",
    "    print(next(l2))"
   ]
  },
  {
   "cell_type": "markdown",
   "id": "43c58066-f400-4f8c-a447-a74a6176325d",
   "metadata": {},
   "source": [
    "4. What is a generator function in python? Why yield keyword is used? Give an example of a generator\n",
    "function."
   ]
  },
  {
   "cell_type": "code",
   "execution_count": 5,
   "id": "0625ad7c-7647-4dfc-8781-8fe230a5216e",
   "metadata": {},
   "outputs": [],
   "source": [
    "'''\n",
    "Generator functions are a special kind of function that return a lazy iterator called a generator iterator. \n",
    "These are objects that you can loop over like a list. \n",
    "However, unlike lists, lazy iterators do not store their contents in memory. \n",
    "\n",
    "Yield keyword is used to create a generator function.\n",
    "'''\n",
    "\n",
    "def gen_fun(n):\n",
    "    a = 0\n",
    "    while a<n:\n",
    "        yield a\n",
    "        a = a+1\n"
   ]
  },
  {
   "cell_type": "code",
   "execution_count": 6,
   "id": "40e0551e-8ab0-4829-b875-9b5e999594aa",
   "metadata": {},
   "outputs": [
    {
     "data": {
      "text/plain": [
       "<generator object gen_fun at 0x7f66846ba7a0>"
      ]
     },
     "execution_count": 6,
     "metadata": {},
     "output_type": "execute_result"
    }
   ],
   "source": [
    "gen_fun(5)"
   ]
  },
  {
   "cell_type": "code",
   "execution_count": 7,
   "id": "3365e439-a3dd-4c3c-84af-04fe6aa1a399",
   "metadata": {},
   "outputs": [
    {
     "name": "stdout",
     "output_type": "stream",
     "text": [
      "0\n",
      "1\n",
      "2\n",
      "3\n",
      "4\n"
     ]
    }
   ],
   "source": [
    "for i in gen_fun(5):\n",
    "    print(i)"
   ]
  },
  {
   "cell_type": "markdown",
   "id": "9b4dd15e-ba0a-46eb-b359-d9c6f948133a",
   "metadata": {},
   "source": [
    "5. Create a generator function for prime numbers less than 1000. Use the next() method to print the\n",
    "first 20 prime numbers."
   ]
  },
  {
   "cell_type": "code",
   "execution_count": 42,
   "id": "6c978883-ed0b-4606-a6f7-aec55dc4acc2",
   "metadata": {},
   "outputs": [],
   "source": [
    "def prime_func():\n",
    "    a = 2\n",
    "    \n",
    "    while a <= 1000:\n",
    "            count = 0\n",
    "            for i in range(2,1000):\n",
    "                if a%i == 0:\n",
    "                    count = count+1\n",
    "            if count == 1:\n",
    "                yield a\n",
    "                \n",
    "            a = a+1"
   ]
  },
  {
   "cell_type": "code",
   "execution_count": 43,
   "id": "580b8a17-03a4-4cb0-bbd5-f3af7bf466c3",
   "metadata": {},
   "outputs": [],
   "source": [
    "prime_object = prime_func()"
   ]
  },
  {
   "cell_type": "code",
   "execution_count": 44,
   "id": "81d72068-c017-48ab-9f0c-88d0766279e0",
   "metadata": {},
   "outputs": [
    {
     "name": "stdout",
     "output_type": "stream",
     "text": [
      "2\n",
      "3\n",
      "5\n",
      "7\n",
      "11\n",
      "13\n",
      "17\n",
      "19\n",
      "23\n",
      "29\n",
      "31\n",
      "37\n",
      "41\n",
      "43\n",
      "47\n",
      "53\n",
      "59\n",
      "61\n",
      "67\n",
      "71\n"
     ]
    }
   ],
   "source": [
    "for i in range(20):\n",
    "    print(next(prime_object))"
   ]
  },
  {
   "cell_type": "markdown",
   "id": "2be8cf00-e414-4710-9d69-c76653800611",
   "metadata": {},
   "source": [
    "6. Write a python program to print the first 10 Fibonacci numbers using a while loop."
   ]
  },
  {
   "cell_type": "code",
   "execution_count": 1,
   "id": "0209332a-aa80-4fdd-b0e1-eff662a371d7",
   "metadata": {},
   "outputs": [
    {
     "name": "stdout",
     "output_type": "stream",
     "text": [
      "0\n",
      "1\n",
      "1\n",
      "2\n",
      "3\n",
      "5\n",
      "8\n",
      "13\n",
      "21\n",
      "34\n"
     ]
    }
   ],
   "source": [
    "a=0\n",
    "b=1\n",
    "n=1\n",
    "while n<=10:\n",
    "    print(a)\n",
    "    a,b=b,b+a\n",
    "    n = n+1\n"
   ]
  },
  {
   "cell_type": "markdown",
   "id": "0a489d7f-62de-438a-bebf-1506d9eb1dea",
   "metadata": {},
   "source": [
    "7. Write a List Comprehension to iterate through the given string: ‘pwskills’.\n",
    "Expected output: ['p', 'w', 's', 'k', 'i', 'l', 'l', 's']"
   ]
  },
  {
   "cell_type": "code",
   "execution_count": 2,
   "id": "8dea603f-83bc-4353-a615-fb72da9ea63a",
   "metadata": {},
   "outputs": [
    {
     "data": {
      "text/plain": [
       "['p', 'w', 's', 'k', 'i', 'l', 'l', 's']"
      ]
     },
     "execution_count": 2,
     "metadata": {},
     "output_type": "execute_result"
    }
   ],
   "source": [
    "[i for i in 'pwskills']"
   ]
  },
  {
   "cell_type": "markdown",
   "id": "7851beb2-4fa9-46c9-b5de-181a9a3bf967",
   "metadata": {},
   "source": [
    "8. Write a python program to check whether a given number is Palindrome or not using a while loop."
   ]
  },
  {
   "cell_type": "code",
   "execution_count": 6,
   "id": "566ba328-8627-4b8d-95e7-6c0b8cedaea0",
   "metadata": {},
   "outputs": [
    {
     "name": "stdin",
     "output_type": "stream",
     "text": [
      "Enter a number: 123\n"
     ]
    },
    {
     "name": "stdout",
     "output_type": "stream",
     "text": [
      "Not a palindrome!\n"
     ]
    }
   ],
   "source": [
    "num=int(input(\"Enter a number:\"))\n",
    "temp=num\n",
    "rev=0\n",
    "while(num>0):\n",
    "    dig=num%10\n",
    "    rev=rev*10+dig\n",
    "    num=num//10\n",
    "if(temp==rev):\n",
    "    print(\"The number is palindrome!\")\n",
    "else:\n",
    "    print(\"Not a palindrome!\")"
   ]
  },
  {
   "cell_type": "markdown",
   "id": "180c7da0-1a7d-4db9-9812-a9410b10b335",
   "metadata": {},
   "source": [
    "9. Write a code to print odd numbers from 1 to 100 using list comprehension."
   ]
  },
  {
   "cell_type": "code",
   "execution_count": 7,
   "id": "62d60f0e-a375-49cf-bd49-27d0f15fcdbb",
   "metadata": {},
   "outputs": [
    {
     "data": {
      "text/plain": [
       "[1,\n",
       " 3,\n",
       " 5,\n",
       " 7,\n",
       " 9,\n",
       " 11,\n",
       " 13,\n",
       " 15,\n",
       " 17,\n",
       " 19,\n",
       " 21,\n",
       " 23,\n",
       " 25,\n",
       " 27,\n",
       " 29,\n",
       " 31,\n",
       " 33,\n",
       " 35,\n",
       " 37,\n",
       " 39,\n",
       " 41,\n",
       " 43,\n",
       " 45,\n",
       " 47,\n",
       " 49,\n",
       " 51,\n",
       " 53,\n",
       " 55,\n",
       " 57,\n",
       " 59,\n",
       " 61,\n",
       " 63,\n",
       " 65,\n",
       " 67,\n",
       " 69,\n",
       " 71,\n",
       " 73,\n",
       " 75,\n",
       " 77,\n",
       " 79,\n",
       " 81,\n",
       " 83,\n",
       " 85,\n",
       " 87,\n",
       " 89,\n",
       " 91,\n",
       " 93,\n",
       " 95,\n",
       " 97,\n",
       " 99]"
      ]
     },
     "execution_count": 7,
     "metadata": {},
     "output_type": "execute_result"
    }
   ],
   "source": [
    "[i for i in range(100) if i % 2 != 0]"
   ]
  },
  {
   "cell_type": "code",
   "execution_count": null,
   "id": "9da7154a-988d-49f2-821d-94fe8798889b",
   "metadata": {},
   "outputs": [],
   "source": []
  }
 ],
 "metadata": {
  "kernelspec": {
   "display_name": "Python 3 (ipykernel)",
   "language": "python",
   "name": "python3"
  },
  "language_info": {
   "codemirror_mode": {
    "name": "ipython",
    "version": 3
   },
   "file_extension": ".py",
   "mimetype": "text/x-python",
   "name": "python",
   "nbconvert_exporter": "python",
   "pygments_lexer": "ipython3",
   "version": "3.10.8"
  }
 },
 "nbformat": 4,
 "nbformat_minor": 5
}
